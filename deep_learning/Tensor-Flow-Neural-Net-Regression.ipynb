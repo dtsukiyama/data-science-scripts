{
 "cells": [
  {
   "cell_type": "code",
   "execution_count": 1,
   "metadata": {
    "collapsed": false
   },
   "outputs": [
    {
     "name": "stdout",
     "output_type": "stream",
     "text": [
      "Populating the interactive namespace from numpy and matplotlib\n"
     ]
    }
   ],
   "source": [
    "%pylab inline\n",
    "%config InlineBackend.figure_format = 'retina'\n",
    "\n",
    "from __future__ import absolute_import\n",
    "from __future__ import division\n",
    "from __future__ import print_function\n",
    "\n",
    "import numpy as np\n",
    "import pandas as pd\n",
    "import sys\n",
    "import tensorflow as tf"
   ]
  },
  {
   "cell_type": "code",
   "execution_count": 2,
   "metadata": {
    "collapsed": true
   },
   "outputs": [],
   "source": [
    "data_path = 'data/hour.csv'\n",
    "\n",
    "rides = pd.read_csv(data_path)"
   ]
  },
  {
   "cell_type": "code",
   "execution_count": 3,
   "metadata": {
    "collapsed": true
   },
   "outputs": [],
   "source": [
    "dummy_fields = ['season', 'weathersit', 'mnth', 'hr', 'weekday']\n",
    "for each in dummy_fields:\n",
    "    dummies = pd.get_dummies(rides[each], prefix=each, drop_first=False)\n",
    "    rides = pd.concat([rides, dummies], axis=1)\n",
    "\n",
    "fields_to_drop = ['instant', 'dteday', 'season', 'weathersit', \n",
    "                  'weekday', 'atemp', 'mnth', 'workingday', 'hr']\n",
    "data = rides.drop(fields_to_drop, axis=1)"
   ]
  },
  {
   "cell_type": "code",
   "execution_count": 4,
   "metadata": {
    "collapsed": true
   },
   "outputs": [],
   "source": [
    "quant_features = ['casual', 'registered', 'cnt', 'temp', 'hum', 'windspeed']\n",
    "# Store scalings in a dictionary so we can convert back later\n",
    "scaled_features = {}\n",
    "for each in quant_features:\n",
    "    mean, std = data[each].mean(), data[each].std()\n",
    "    scaled_features[each] = [mean, std]\n",
    "    data.loc[:, each] = (data[each] - mean)/std"
   ]
  },
  {
   "cell_type": "code",
   "execution_count": 5,
   "metadata": {
    "collapsed": true
   },
   "outputs": [],
   "source": [
    "# Save the last 21 days \n",
    "test_data = data[-21*24:]\n",
    "data = data[:-21*24]\n",
    "\n",
    "# Separate the data into features and targets\n",
    "target_fields = ['cnt', 'casual', 'registered']\n",
    "#target_fields = ['cnt']\n",
    "\n",
    "features, targets = data.drop(target_fields, axis=1), data['cnt'].values\n",
    "targets.resize(targets.size, 1)\n",
    "\n",
    "test_features, test_targets = test_data.drop(target_fields, axis=1), test_data['cnt'].values\n",
    "test_targets.resize(test_targets.size, 1)\n"
   ]
  },
  {
   "cell_type": "code",
   "execution_count": 6,
   "metadata": {
    "collapsed": true
   },
   "outputs": [],
   "source": [
    "# Hold out the last 60 days of the remaining data as a validation set\n",
    "train_features, train_targets = features[:-60*24], targets[:-60*24]\n",
    "val_features, val_targets = features[-60*24:], targets[-60*24:]"
   ]
  },
  {
   "cell_type": "code",
   "execution_count": 7,
   "metadata": {
    "collapsed": false
   },
   "outputs": [
    {
     "data": {
      "text/plain": [
       "(56, (15435, 1))"
      ]
     },
     "execution_count": 7,
     "metadata": {},
     "output_type": "execute_result"
    }
   ],
   "source": [
    "# number of features\n",
    "train_features.shape[1], train_targets.shape"
   ]
  },
  {
   "cell_type": "code",
   "execution_count": 8,
   "metadata": {
    "collapsed": true
   },
   "outputs": [],
   "source": [
    "def neural_net_feature_input(n_features):\n",
    "    \"\"\"\n",
    "    Return a Tensor for a batch of training features\n",
    "    : shape: Shape of feature: number of features\n",
    "    : return: Tensor for input.\n",
    "    \"\"\"\n",
    "    return tf.placeholder(tf.float32, shape = [None, n_features], name = 'x')\n",
    "\n",
    "def neural_net_target_input():\n",
    "    \"\"\"\n",
    "    Return a Tensor for a batch of label input\n",
    "    : single dimension as input\n",
    "    : return: Tensor for input.\n",
    "    \"\"\"\n",
    "    return tf.placeholder(tf.float32, shape = [None, 1], name = 'y')"
   ]
  },
  {
   "cell_type": "code",
   "execution_count": 9,
   "metadata": {
    "collapsed": true
   },
   "outputs": [],
   "source": [
    "# construct 2 layer network\n",
    "def neural_net(x_tensor):\n",
    "    w1 = tf.Variable(tf.truncated_normal([56, 112],stddev=0.1))\n",
    "    b1 = tf.Variable(tf.zeros(112))\n",
    "    layer1 = tf.add(tf.matmul(x_tensor, w1), b1)\n",
    "    layer1 = tf.nn.sigmoid(layer1)\n",
    "    \n",
    "    w2 = tf.Variable(tf.truncated_normal([112, 56],stddev=0.1))\n",
    "    b2 = tf.Variable(tf.zeros([56]))\n",
    "    layer2 = tf.add(tf.matmul(layer1, w2), b2)\n",
    "    layer2 = tf.nn.sigmoid(layer2)\n",
    "    \n",
    "    w3 = tf.Variable(tf.truncated_normal([56, 1],stddev=0.1))\n",
    "    b3 = tf.Variable(tf.zeros([1]))\n",
    "    predictions = tf.add(tf.matmul(layer2, w3), b3)\n",
    "    return predictions"
   ]
  },
  {
   "cell_type": "code",
   "execution_count": 10,
   "metadata": {
    "collapsed": true
   },
   "outputs": [],
   "source": [
    "def next(features, iterator, batch_size):\n",
    "    start_index = iterator*batch_size\n",
    "    end_index = (iterator+1)*batch_size\n",
    "    return features[start_index:end_index]"
   ]
  },
  {
   "cell_type": "code",
   "execution_count": 11,
   "metadata": {
    "collapsed": false
   },
   "outputs": [],
   "source": [
    "n_features = train_features.shape[1]\n",
    "learning_rate = 0.01\n",
    "\n",
    "x = neural_net_feature_input(n_features)\n",
    "y = neural_net_target_input()\n",
    "\n",
    "pred = neural_net(x)\n",
    "\n",
    "# cost\n",
    "cost_op = tf.reduce_mean(tf.pow(pred - y, 2))\n",
    "# Gradient descent\n",
    "optimizer = tf.train.GradientDescentOptimizer(learning_rate).minimize(cost_op)"
   ]
  },
  {
   "cell_type": "code",
   "execution_count": 28,
   "metadata": {
    "collapsed": false,
    "scrolled": true
   },
   "outputs": [
    {
     "name": "stdout",
     "output_type": "stream",
     "text": [
      "batch size =  50\n",
      "number batches =  308\n",
      "--- Beginning Training ---\n",
      "Progress: 21% ... Training loss: 0.05722 ... Validation loss: 0.11608--- EARLY STOPPING ---\n",
      "\n",
      "Predictions versus test set\n",
      "Prediction\n",
      "real\tpredicted\n",
      "-0.3\t-0.2\n",
      "-0.6\t-0.5\n",
      "-0.9\t-1.1\n",
      "-1.0\t-0.9\n",
      "-1.0\t-1.0\n",
      "-1.0\t-1.2\n",
      "-1.0\t-1.0\n",
      "-0.8\t-1.1\n",
      "-0.4\t-0.3\n",
      "1.1\t1.2\n"
     ]
    },
    {
     "data": {
      "image/png": "[encoded data removed]",
      "text/plain": [
       "<matplotlib.figure.Figure at 0x7f9228079a10>"
      ]
     },
     "metadata": {
      "image/png": {
       "height": 356,
       "width": 523
      }
     },
     "output_type": "display_data"
    }
   ],
   "source": [
    "epochs  = 3000      \n",
    "batch_size  = 50         \n",
    "num_samples = train_targets.shape[0]                \n",
    "num_batches = int(num_samples / batch_size)   \n",
    "early_stopping = 1e-5\n",
    "last_loss = 0\n",
    "    \n",
    "\n",
    "print( \"batch size = \", batch_size )\n",
    "print( \"number batches = \", num_batches )\n",
    "print( \"--- Beginning Training ---\" )\n",
    "\n",
    "with tf.Session() as sess:\n",
    "    \n",
    "    init = tf.global_variables_initializer()\n",
    "    sess.run(init)\n",
    "    \n",
    "    losses = {'train':[], 'validation':[]}\n",
    "    for i in range(epochs):\n",
    "        for n in range(num_batches):\n",
    "            batch_x = next(train_features, n, batch_size)\n",
    "            batch_y = next(train_targets, n, batch_size)\n",
    "            sess.run(optimizer, feed_dict={x: batch_x, y: batch_y} )\n",
    "\n",
    "    \n",
    "        train_loss = sess.run(cost_op, feed_dict={x: train_features, y: train_targets}) \n",
    "        val_loss = sess.run(cost_op, feed_dict={x: val_features, y: val_targets})\n",
    "        sys.stdout.write(\"\\rProgress: \" + str(100 * i/float(epochs))[:2] \\\n",
    "                     + \"% ... Training loss: \" + str(train_loss)[:7] \\\n",
    "                     + \" ... Validation loss: \" + str(val_loss)[:7])\n",
    "    \n",
    "        losses['train'].append(train_loss)\n",
    "        losses['validation'].append(val_loss)\n",
    "        \n",
    "        if abs(last_loss - val_loss) < early_stopping:\n",
    "            print( \"--- EARLY STOPPING ---\")\n",
    "            predictions = sess.run(pred, feed_dict={x: test_features, y: test_targets} )\n",
    "            print( \"\\nPredictions versus test set\\nPrediction\\nreal\\tpredicted\" )\n",
    "            for (x, y) in zip( test_targets, predictions )[0:10]:\n",
    "                print( \"%1.1f\\t%1.1f\" % (x, y))\n",
    "                \n",
    "            plt.plot(losses['train'], label='Training loss')\n",
    "            plt.plot(losses['validation'], label='Validation loss')\n",
    "            plt.legend()\n",
    "            plt.ylim(ymax=0.5)\n",
    "            \n",
    "            break\n",
    "                    \n",
    "        last_loss = val_loss\n",
    "        "
   ]
  },
  {
   "cell_type": "code",
   "execution_count": null,
   "metadata": {
    "collapsed": false
   },
   "outputs": [
    {
     "name": "stdout",
     "output_type": "stream",
     "text": [
      "batch size =  50\n",
      "number batches =  308\n",
      "--- Beginning Training ---\n",
      "Progress: 45% ... Training loss: 0.1875 ... Validation loss: 0.3031"
     ]
    }
   ],
   "source": [
    "# no early stopping\n",
    "epochs  = 500     \n",
    "batch_size  = 50         \n",
    "num_samples = train_targets.shape[0]                \n",
    "num_batches = int(num_samples / batch_size)   \n",
    "last_loss = 0\n",
    "    \n",
    "\n",
    "print( \"batch size = \", batch_size )\n",
    "print( \"number batches = \", num_batches )\n",
    "print( \"--- Beginning Training ---\" )\n",
    "\n",
    "with tf.Session() as sess:\n",
    "    \n",
    "    init = tf.global_variables_initializer()\n",
    "    sess.run(init)\n",
    "    \n",
    "    losses = {'train':[], 'validation':[]}\n",
    "    for i in range(epochs):\n",
    "        for n in range(num_batches):\n",
    "            batch_x = next(train_features, n, batch_size)\n",
    "            batch_y = next(train_targets, n, batch_size)\n",
    "            sess.run(optimizer, feed_dict={x: batch_x, y: batch_y} )\n",
    "\n",
    "    \n",
    "        train_loss = sess.run(cost_op, feed_dict={x: train_features, y: train_targets}) \n",
    "        val_loss = sess.run(cost_op, feed_dict={x: val_features, y: val_targets})\n",
    "        sys.stdout.write(\"\\rProgress: \" + str(100 * i/float(epochs))[:2] \\\n",
    "                     + \"% ... Training loss: \" + str(train_loss)[:6] \\\n",
    "                     + \" ... Validation loss: \" + str(val_loss)[:6])\n",
    "    \n",
    "        losses['train'].append(train_loss)\n",
    "        losses['validation'].append(val_loss)\n",
    "        last_loss = train_loss\n",
    "        \n",
    "    predictions = sess.run(pred, feed_dict={x: test_features, y: test_targets} )\n",
    "    \n",
    "    print( \"\\nPredictions versus test set\\nPrediction\\nreal\\tpredicted\" )\n",
    "    for (x, y) in zip( test_targets, predictions )[0:10]:\n",
    "        print( \"%1.1f\\t%1.1f\" % (x, y))\n",
    "        \n",
    "    plt.plot(losses['train'], label='Training loss')\n",
    "    plt.plot(losses['validation'], label='Validation loss')\n",
    "    plt.legend()\n",
    "    plt.ylim(ymax=0.5)"
   ]
  },
  {
   "cell_type": "code",
   "execution_count": null,
   "metadata": {
    "collapsed": true
   },
   "outputs": [],
   "source": []
  }
 ],
 "metadata": {
  "kernelspec": {
   "display_name": "Python 2",
   "language": "python",
   "name": "python2"
  },
  "language_info": {
   "codemirror_mode": {
    "name": "ipython",
    "version": 2
   },
   "file_extension": ".py",
   "mimetype": "text/x-python",
   "name": "python",
   "nbconvert_exporter": "python",
   "pygments_lexer": "ipython2",
   "version": "2.7.10"
  }
 },
 "nbformat": 4,
 "nbformat_minor": 1
}
